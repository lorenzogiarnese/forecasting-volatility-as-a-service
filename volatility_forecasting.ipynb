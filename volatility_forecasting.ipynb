{
  "cells": [
    {
      "cell_type": "markdown",
      "metadata": {
        "id": "view-in-github",
        "colab_type": "text"
      },
      "source": [
        "<a href=\"https://colab.research.google.com/github/lorenzogiarnese/forecasting-volatility-as-a-service/blob/main/volatility_forecasting.ipynb\" target=\"_parent\"><img src=\"https://colab.research.google.com/assets/colab-badge.svg\" alt=\"Open In Colab\"/></a>"
      ]
    },
    {
      "cell_type": "code",
      "execution_count": 2,
      "metadata": {
        "colab": {
          "base_uri": "https://localhost:8080/"
        },
        "id": "UG1GAaBTyEQ-",
        "outputId": "4fc5d77d-b927-4abd-8940-068adbd34294"
      },
      "outputs": [
        {
          "output_type": "stream",
          "name": "stdout",
          "text": [
            "Collecting arch\n",
            "  Downloading arch-6.1.0-cp310-cp310-manylinux_2_17_x86_64.manylinux2014_x86_64.whl (916 kB)\n",
            "\u001b[2K     \u001b[90m━━━━━━━━━━━━━━━━━━━━━━━━━━━━━━━━━━━━━━━\u001b[0m \u001b[32m916.4/916.4 kB\u001b[0m \u001b[31m6.7 MB/s\u001b[0m eta \u001b[36m0:00:00\u001b[0m\n",
            "\u001b[?25hRequirement already satisfied: numpy>=1.19 in /usr/local/lib/python3.10/dist-packages (from arch) (1.23.5)\n",
            "Requirement already satisfied: scipy>=1.5 in /usr/local/lib/python3.10/dist-packages (from arch) (1.11.2)\n",
            "Requirement already satisfied: pandas>=1.1 in /usr/local/lib/python3.10/dist-packages (from arch) (1.5.3)\n",
            "Requirement already satisfied: statsmodels>=0.12 in /usr/local/lib/python3.10/dist-packages (from arch) (0.14.0)\n",
            "Requirement already satisfied: python-dateutil>=2.8.1 in /usr/local/lib/python3.10/dist-packages (from pandas>=1.1->arch) (2.8.2)\n",
            "Requirement already satisfied: pytz>=2020.1 in /usr/local/lib/python3.10/dist-packages (from pandas>=1.1->arch) (2023.3.post1)\n",
            "Requirement already satisfied: patsy>=0.5.2 in /usr/local/lib/python3.10/dist-packages (from statsmodels>=0.12->arch) (0.5.3)\n",
            "Requirement already satisfied: packaging>=21.3 in /usr/local/lib/python3.10/dist-packages (from statsmodels>=0.12->arch) (23.1)\n",
            "Requirement already satisfied: six in /usr/local/lib/python3.10/dist-packages (from patsy>=0.5.2->statsmodels>=0.12->arch) (1.16.0)\n",
            "Installing collected packages: arch\n",
            "Successfully installed arch-6.1.0\n"
          ]
        }
      ],
      "source": [
        " !pip install --upgrade arch"
      ]
    },
    {
      "cell_type": "code",
      "execution_count": 3,
      "metadata": {
        "colab": {
          "base_uri": "https://localhost:8080/"
        },
        "id": "s71S2GjcRMgg",
        "outputId": "34722f1d-ef9e-4b8d-ebd3-47c6045f8997"
      },
      "outputs": [
        {
          "output_type": "stream",
          "name": "stdout",
          "text": [
            "Collecting pmdarima\n",
            "  Downloading pmdarima-2.0.3-cp310-cp310-manylinux_2_17_x86_64.manylinux2014_x86_64.manylinux_2_28_x86_64.whl (1.8 MB)\n",
            "\u001b[2K     \u001b[90m━━━━━━━━━━━━━━━━━━━━━━━━━━━━━━━━━━━━━━━━\u001b[0m \u001b[32m1.8/1.8 MB\u001b[0m \u001b[31m11.9 MB/s\u001b[0m eta \u001b[36m0:00:00\u001b[0m\n",
            "\u001b[?25hRequirement already satisfied: joblib>=0.11 in /usr/local/lib/python3.10/dist-packages (from pmdarima) (1.3.2)\n",
            "Requirement already satisfied: Cython!=0.29.18,!=0.29.31,>=0.29 in /usr/local/lib/python3.10/dist-packages (from pmdarima) (3.0.2)\n",
            "Requirement already satisfied: numpy>=1.21.2 in /usr/local/lib/python3.10/dist-packages (from pmdarima) (1.23.5)\n",
            "Requirement already satisfied: pandas>=0.19 in /usr/local/lib/python3.10/dist-packages (from pmdarima) (1.5.3)\n",
            "Requirement already satisfied: scikit-learn>=0.22 in /usr/local/lib/python3.10/dist-packages (from pmdarima) (1.2.2)\n",
            "Requirement already satisfied: scipy>=1.3.2 in /usr/local/lib/python3.10/dist-packages (from pmdarima) (1.11.2)\n",
            "Requirement already satisfied: statsmodels>=0.13.2 in /usr/local/lib/python3.10/dist-packages (from pmdarima) (0.14.0)\n",
            "Requirement already satisfied: urllib3 in /usr/local/lib/python3.10/dist-packages (from pmdarima) (2.0.4)\n",
            "Requirement already satisfied: setuptools!=50.0.0,>=38.6.0 in /usr/local/lib/python3.10/dist-packages (from pmdarima) (67.7.2)\n",
            "Requirement already satisfied: python-dateutil>=2.8.1 in /usr/local/lib/python3.10/dist-packages (from pandas>=0.19->pmdarima) (2.8.2)\n",
            "Requirement already satisfied: pytz>=2020.1 in /usr/local/lib/python3.10/dist-packages (from pandas>=0.19->pmdarima) (2023.3.post1)\n",
            "Requirement already satisfied: threadpoolctl>=2.0.0 in /usr/local/lib/python3.10/dist-packages (from scikit-learn>=0.22->pmdarima) (3.2.0)\n",
            "Requirement already satisfied: patsy>=0.5.2 in /usr/local/lib/python3.10/dist-packages (from statsmodels>=0.13.2->pmdarima) (0.5.3)\n",
            "Requirement already satisfied: packaging>=21.3 in /usr/local/lib/python3.10/dist-packages (from statsmodels>=0.13.2->pmdarima) (23.1)\n",
            "Requirement already satisfied: six in /usr/local/lib/python3.10/dist-packages (from patsy>=0.5.2->statsmodels>=0.13.2->pmdarima) (1.16.0)\n",
            "Installing collected packages: pmdarima\n",
            "Successfully installed pmdarima-2.0.3\n"
          ]
        }
      ],
      "source": [
        "!pip install pmdarima"
      ]
    },
    {
      "cell_type": "code",
      "execution_count": 4,
      "metadata": {
        "colab": {
          "base_uri": "https://localhost:8080/"
        },
        "id": "cbw_5wz_yE7G",
        "outputId": "3e9c8c7c-1327-4f99-ec8f-02c396ea49e8"
      },
      "outputs": [
        {
          "output_type": "stream",
          "name": "stdout",
          "text": [
            "Requirement already satisfied: yfinance in /usr/local/lib/python3.10/dist-packages (0.2.28)\n",
            "Requirement already satisfied: pandas>=1.3.0 in /usr/local/lib/python3.10/dist-packages (from yfinance) (1.5.3)\n",
            "Requirement already satisfied: numpy>=1.16.5 in /usr/local/lib/python3.10/dist-packages (from yfinance) (1.23.5)\n",
            "Requirement already satisfied: requests>=2.31 in /usr/local/lib/python3.10/dist-packages (from yfinance) (2.31.0)\n",
            "Requirement already satisfied: multitasking>=0.0.7 in /usr/local/lib/python3.10/dist-packages (from yfinance) (0.0.11)\n",
            "Requirement already satisfied: lxml>=4.9.1 in /usr/local/lib/python3.10/dist-packages (from yfinance) (4.9.3)\n",
            "Requirement already satisfied: appdirs>=1.4.4 in /usr/local/lib/python3.10/dist-packages (from yfinance) (1.4.4)\n",
            "Requirement already satisfied: pytz>=2022.5 in /usr/local/lib/python3.10/dist-packages (from yfinance) (2023.3.post1)\n",
            "Requirement already satisfied: frozendict>=2.3.4 in /usr/local/lib/python3.10/dist-packages (from yfinance) (2.3.8)\n",
            "Requirement already satisfied: beautifulsoup4>=4.11.1 in /usr/local/lib/python3.10/dist-packages (from yfinance) (4.11.2)\n",
            "Requirement already satisfied: html5lib>=1.1 in /usr/local/lib/python3.10/dist-packages (from yfinance) (1.1)\n",
            "Requirement already satisfied: soupsieve>1.2 in /usr/local/lib/python3.10/dist-packages (from beautifulsoup4>=4.11.1->yfinance) (2.5)\n",
            "Requirement already satisfied: six>=1.9 in /usr/local/lib/python3.10/dist-packages (from html5lib>=1.1->yfinance) (1.16.0)\n",
            "Requirement already satisfied: webencodings in /usr/local/lib/python3.10/dist-packages (from html5lib>=1.1->yfinance) (0.5.1)\n",
            "Requirement already satisfied: python-dateutil>=2.8.1 in /usr/local/lib/python3.10/dist-packages (from pandas>=1.3.0->yfinance) (2.8.2)\n",
            "Requirement already satisfied: charset-normalizer<4,>=2 in /usr/local/lib/python3.10/dist-packages (from requests>=2.31->yfinance) (3.2.0)\n",
            "Requirement already satisfied: idna<4,>=2.5 in /usr/local/lib/python3.10/dist-packages (from requests>=2.31->yfinance) (3.4)\n",
            "Requirement already satisfied: urllib3<3,>=1.21.1 in /usr/local/lib/python3.10/dist-packages (from requests>=2.31->yfinance) (2.0.4)\n",
            "Requirement already satisfied: certifi>=2017.4.17 in /usr/local/lib/python3.10/dist-packages (from requests>=2.31->yfinance) (2023.7.22)\n"
          ]
        }
      ],
      "source": [
        " !pip3 install yfinance"
      ]
    },
    {
      "cell_type": "code",
      "execution_count": 5,
      "metadata": {
        "colab": {
          "base_uri": "https://localhost:8080/"
        },
        "id": "vTcdKXUW_ibX",
        "outputId": "b655cc86-09c8-4237-a585-05d56285915e"
      },
      "outputs": [
        {
          "output_type": "stream",
          "name": "stdout",
          "text": [
            "Collecting optuna\n",
            "  Downloading optuna-3.3.0-py3-none-any.whl (404 kB)\n",
            "\u001b[2K     \u001b[90m━━━━━━━━━━━━━━━━━━━━━━━━━━━━━━━━━━━━━━━\u001b[0m \u001b[32m404.2/404.2 kB\u001b[0m \u001b[31m5.2 MB/s\u001b[0m eta \u001b[36m0:00:00\u001b[0m\n",
            "\u001b[?25hCollecting alembic>=1.5.0 (from optuna)\n",
            "  Downloading alembic-1.12.0-py3-none-any.whl (226 kB)\n",
            "\u001b[2K     \u001b[90m━━━━━━━━━━━━━━━━━━━━━━━━━━━━━━━━━━━━━━\u001b[0m \u001b[32m226.0/226.0 kB\u001b[0m \u001b[31m19.3 MB/s\u001b[0m eta \u001b[36m0:00:00\u001b[0m\n",
            "\u001b[?25hCollecting cmaes>=0.10.0 (from optuna)\n",
            "  Downloading cmaes-0.10.0-py3-none-any.whl (29 kB)\n",
            "Collecting colorlog (from optuna)\n",
            "  Downloading colorlog-6.7.0-py2.py3-none-any.whl (11 kB)\n",
            "Requirement already satisfied: numpy in /usr/local/lib/python3.10/dist-packages (from optuna) (1.23.5)\n",
            "Requirement already satisfied: packaging>=20.0 in /usr/local/lib/python3.10/dist-packages (from optuna) (23.1)\n",
            "Requirement already satisfied: sqlalchemy>=1.3.0 in /usr/local/lib/python3.10/dist-packages (from optuna) (2.0.20)\n",
            "Requirement already satisfied: tqdm in /usr/local/lib/python3.10/dist-packages (from optuna) (4.66.1)\n",
            "Requirement already satisfied: PyYAML in /usr/local/lib/python3.10/dist-packages (from optuna) (6.0.1)\n",
            "Collecting Mako (from alembic>=1.5.0->optuna)\n",
            "  Downloading Mako-1.2.4-py3-none-any.whl (78 kB)\n",
            "\u001b[2K     \u001b[90m━━━━━━━━━━━━━━━━━━━━━━━━━━━━━━━━━━━━━━━━\u001b[0m \u001b[32m78.7/78.7 kB\u001b[0m \u001b[31m7.4 MB/s\u001b[0m eta \u001b[36m0:00:00\u001b[0m\n",
            "\u001b[?25hRequirement already satisfied: typing-extensions>=4 in /usr/local/lib/python3.10/dist-packages (from alembic>=1.5.0->optuna) (4.5.0)\n",
            "Requirement already satisfied: greenlet!=0.4.17 in /usr/local/lib/python3.10/dist-packages (from sqlalchemy>=1.3.0->optuna) (2.0.2)\n",
            "Requirement already satisfied: MarkupSafe>=0.9.2 in /usr/local/lib/python3.10/dist-packages (from Mako->alembic>=1.5.0->optuna) (2.1.3)\n",
            "Installing collected packages: Mako, colorlog, cmaes, alembic, optuna\n",
            "Successfully installed Mako-1.2.4 alembic-1.12.0 cmaes-0.10.0 colorlog-6.7.0 optuna-3.3.0\n"
          ]
        }
      ],
      "source": [
        "!pip install optuna"
      ]
    },
    {
      "cell_type": "code",
      "execution_count": 6,
      "metadata": {
        "colab": {
          "base_uri": "https://localhost:8080/"
        },
        "id": "aBH0Rywgf5fg",
        "outputId": "d6a3b7e9-3a36-46f5-f77f-89027fc104d8"
      },
      "outputs": [
        {
          "output_type": "stream",
          "name": "stdout",
          "text": [
            "Collecting statsforecast\n",
            "  Downloading statsforecast-1.6.0-py3-none-any.whl (110 kB)\n",
            "\u001b[2K     \u001b[90m━━━━━━━━━━━━━━━━━━━━━━━━━━━━━━━━━━━━━━━\u001b[0m \u001b[32m110.9/110.9 kB\u001b[0m \u001b[31m2.3 MB/s\u001b[0m eta \u001b[36m0:00:00\u001b[0m\n",
            "\u001b[?25hRequirement already satisfied: matplotlib in /usr/local/lib/python3.10/dist-packages (from statsforecast) (3.7.1)\n",
            "Requirement already satisfied: numba>=0.55.0 in /usr/local/lib/python3.10/dist-packages (from statsforecast) (0.56.4)\n",
            "Requirement already satisfied: numpy>=1.21.6 in /usr/local/lib/python3.10/dist-packages (from statsforecast) (1.23.5)\n",
            "Requirement already satisfied: pandas>=1.3.5 in /usr/local/lib/python3.10/dist-packages (from statsforecast) (1.5.3)\n",
            "Requirement already satisfied: polars in /usr/local/lib/python3.10/dist-packages (from statsforecast) (0.17.3)\n",
            "Requirement already satisfied: scipy>=1.7.3 in /usr/local/lib/python3.10/dist-packages (from statsforecast) (1.11.2)\n",
            "Requirement already satisfied: statsmodels>=0.13.2 in /usr/local/lib/python3.10/dist-packages (from statsforecast) (0.14.0)\n",
            "Requirement already satisfied: tqdm in /usr/local/lib/python3.10/dist-packages (from statsforecast) (4.66.1)\n",
            "Collecting fugue>=0.8.1 (from statsforecast)\n",
            "  Downloading fugue-0.8.6-py3-none-any.whl (275 kB)\n",
            "\u001b[2K     \u001b[90m━━━━━━━━━━━━━━━━━━━━━━━━━━━━━━━━━━━━━━━\u001b[0m \u001b[32m275.0/275.0 kB\u001b[0m \u001b[31m9.4 MB/s\u001b[0m eta \u001b[36m0:00:00\u001b[0m\n",
            "\u001b[?25hCollecting triad>=0.9.1 (from fugue>=0.8.1->statsforecast)\n",
            "  Downloading triad-0.9.1-py3-none-any.whl (57 kB)\n",
            "\u001b[2K     \u001b[90m━━━━━━━━━━━━━━━━━━━━━━━━━━━━━━━━━━━━━━━━\u001b[0m \u001b[32m57.0/57.0 kB\u001b[0m \u001b[31m5.1 MB/s\u001b[0m eta \u001b[36m0:00:00\u001b[0m\n",
            "\u001b[?25hCollecting adagio>=0.2.4 (from fugue>=0.8.1->statsforecast)\n",
            "  Downloading adagio-0.2.4-py3-none-any.whl (26 kB)\n",
            "Requirement already satisfied: pyarrow>=0.15.1 in /usr/local/lib/python3.10/dist-packages (from fugue>=0.8.1->statsforecast) (9.0.0)\n",
            "Collecting qpd>=0.4.4 (from fugue>=0.8.1->statsforecast)\n",
            "  Downloading qpd-0.4.4-py3-none-any.whl (169 kB)\n",
            "\u001b[2K     \u001b[90m━━━━━━━━━━━━━━━━━━━━━━━━━━━━━━━━━━━━━━━\u001b[0m \u001b[32m169.2/169.2 kB\u001b[0m \u001b[31m8.9 MB/s\u001b[0m eta \u001b[36m0:00:00\u001b[0m\n",
            "\u001b[?25hCollecting fugue-sql-antlr>=0.1.6 (from fugue>=0.8.1->statsforecast)\n",
            "  Downloading fugue-sql-antlr-0.1.7.tar.gz (154 kB)\n",
            "\u001b[2K     \u001b[90m━━━━━━━━━━━━━━━━━━━━━━━━━━━━━━━━━━━━━━━\u001b[0m \u001b[32m154.7/154.7 kB\u001b[0m \u001b[31m9.7 MB/s\u001b[0m eta \u001b[36m0:00:00\u001b[0m\n",
            "\u001b[?25h  Preparing metadata (setup.py) ... \u001b[?25l\u001b[?25hdone\n",
            "Collecting sqlglot (from fugue>=0.8.1->statsforecast)\n",
            "  Downloading sqlglot-18.5.1-py3-none-any.whl (303 kB)\n",
            "\u001b[2K     \u001b[90m━━━━━━━━━━━━━━━━━━━━━━━━━━━━━━━━━━━━━━\u001b[0m \u001b[32m303.7/303.7 kB\u001b[0m \u001b[31m14.2 MB/s\u001b[0m eta \u001b[36m0:00:00\u001b[0m\n",
            "\u001b[?25hRequirement already satisfied: jinja2 in /usr/local/lib/python3.10/dist-packages (from fugue>=0.8.1->statsforecast) (3.1.2)\n",
            "Requirement already satisfied: llvmlite<0.40,>=0.39.0dev0 in /usr/local/lib/python3.10/dist-packages (from numba>=0.55.0->statsforecast) (0.39.1)\n",
            "Requirement already satisfied: setuptools in /usr/local/lib/python3.10/dist-packages (from numba>=0.55.0->statsforecast) (67.7.2)\n",
            "Requirement already satisfied: python-dateutil>=2.8.1 in /usr/local/lib/python3.10/dist-packages (from pandas>=1.3.5->statsforecast) (2.8.2)\n",
            "Requirement already satisfied: pytz>=2020.1 in /usr/local/lib/python3.10/dist-packages (from pandas>=1.3.5->statsforecast) (2023.3.post1)\n",
            "Requirement already satisfied: patsy>=0.5.2 in /usr/local/lib/python3.10/dist-packages (from statsmodels>=0.13.2->statsforecast) (0.5.3)\n",
            "Requirement already satisfied: packaging>=21.3 in /usr/local/lib/python3.10/dist-packages (from statsmodels>=0.13.2->statsforecast) (23.1)\n",
            "Requirement already satisfied: contourpy>=1.0.1 in /usr/local/lib/python3.10/dist-packages (from matplotlib->statsforecast) (1.1.0)\n",
            "Requirement already satisfied: cycler>=0.10 in /usr/local/lib/python3.10/dist-packages (from matplotlib->statsforecast) (0.11.0)\n",
            "Requirement already satisfied: fonttools>=4.22.0 in /usr/local/lib/python3.10/dist-packages (from matplotlib->statsforecast) (4.42.1)\n",
            "Requirement already satisfied: kiwisolver>=1.0.1 in /usr/local/lib/python3.10/dist-packages (from matplotlib->statsforecast) (1.4.5)\n",
            "Requirement already satisfied: pillow>=6.2.0 in /usr/local/lib/python3.10/dist-packages (from matplotlib->statsforecast) (9.4.0)\n",
            "Requirement already satisfied: pyparsing>=2.3.1 in /usr/local/lib/python3.10/dist-packages (from matplotlib->statsforecast) (3.1.1)\n",
            "Requirement already satisfied: typing_extensions>=4.0.1 in /usr/local/lib/python3.10/dist-packages (from polars->statsforecast) (4.5.0)\n",
            "Collecting antlr4-python3-runtime<4.12,>=4.11.1 (from fugue-sql-antlr>=0.1.6->fugue>=0.8.1->statsforecast)\n",
            "  Downloading antlr4_python3_runtime-4.11.1-py3-none-any.whl (144 kB)\n",
            "\u001b[2K     \u001b[90m━━━━━━━━━━━━━━━━━━━━━━━━━━━━━━━━━━━━━━\u001b[0m \u001b[32m144.2/144.2 kB\u001b[0m \u001b[31m14.5 MB/s\u001b[0m eta \u001b[36m0:00:00\u001b[0m\n",
            "\u001b[?25hRequirement already satisfied: six in /usr/local/lib/python3.10/dist-packages (from patsy>=0.5.2->statsmodels>=0.13.2->statsforecast) (1.16.0)\n",
            "Requirement already satisfied: fsspec in /usr/local/lib/python3.10/dist-packages (from triad>=0.9.1->fugue>=0.8.1->statsforecast) (2023.6.0)\n",
            "Collecting fs (from triad>=0.9.1->fugue>=0.8.1->statsforecast)\n",
            "  Downloading fs-2.4.16-py2.py3-none-any.whl (135 kB)\n",
            "\u001b[2K     \u001b[90m━━━━━━━━━━━━━━━━━━━━━━━━━━━━━━━━━━━━━━\u001b[0m \u001b[32m135.3/135.3 kB\u001b[0m \u001b[31m11.7 MB/s\u001b[0m eta \u001b[36m0:00:00\u001b[0m\n",
            "\u001b[?25hRequirement already satisfied: MarkupSafe>=2.0 in /usr/local/lib/python3.10/dist-packages (from jinja2->fugue>=0.8.1->statsforecast) (2.1.3)\n",
            "Requirement already satisfied: appdirs~=1.4.3 in /usr/local/lib/python3.10/dist-packages (from fs->triad>=0.9.1->fugue>=0.8.1->statsforecast) (1.4.4)\n",
            "Building wheels for collected packages: fugue-sql-antlr\n",
            "  Building wheel for fugue-sql-antlr (setup.py) ... \u001b[?25l\u001b[?25hdone\n",
            "  Created wheel for fugue-sql-antlr: filename=fugue_sql_antlr-0.1.7-py3-none-any.whl size=158204 sha256=00397688adbe47cd21fd7c26dff9bf98f63df973d2bfb8c59ba818274ac34307\n",
            "  Stored in directory: /root/.cache/pip/wheels/2c/6a/bb/a1d60fffdfaeabda73de1364df4f6ad6586a052b07ec03e5af\n",
            "Successfully built fugue-sql-antlr\n",
            "Installing collected packages: antlr4-python3-runtime, sqlglot, fs, triad, fugue-sql-antlr, adagio, qpd, fugue, statsforecast\n",
            "Successfully installed adagio-0.2.4 antlr4-python3-runtime-4.11.1 fs-2.4.16 fugue-0.8.6 fugue-sql-antlr-0.1.7 qpd-0.4.4 sqlglot-18.5.1 statsforecast-1.6.0 triad-0.9.1\n"
          ]
        }
      ],
      "source": [
        "!pip install statsforecast"
      ]
    },
    {
      "cell_type": "code",
      "execution_count": 7,
      "metadata": {
        "id": "wKva0jL4yJb7"
      },
      "outputs": [],
      "source": [
        "import numpy as np\n",
        "import pandas as pd\n",
        "import matplotlib.pyplot as plt\n",
        "import seaborn as sns\n",
        "import pmdarima as pm\n",
        "import optuna\n",
        "from statsforecast.models import RandomWalkWithDrift\n",
        "from statsmodels.tsa.arima.model import ARIMA\n",
        "import statsmodels.api as sm\n",
        "from sklearn.preprocessing import RobustScaler\n",
        "from sklearn.metrics import mean_squared_error as mse\n",
        "from scipy import stats\n",
        "from scipy.interpolate import interp1d\n",
        "\n",
        "\n",
        "%matplotlib inline"
      ]
    },
    {
      "cell_type": "code",
      "execution_count": 8,
      "metadata": {
        "id": "8Bpp7Hs4yJ8e"
      },
      "outputs": [],
      "source": [
        "import yfinance as yf\n",
        "\n",
        "from datetime import datetime"
      ]
    },
    {
      "cell_type": "markdown",
      "metadata": {
        "id": "_TpZOyf7MZpY"
      },
      "source": [
        "#**Parameters selection**"
      ]
    },
    {
      "cell_type": "code",
      "execution_count": 9,
      "metadata": {
        "id": "CpWR8nHkHIYI"
      },
      "outputs": [],
      "source": [
        "#define validation and test dataset percentage\n",
        "validation_percentage = 20\n",
        "test_percentage = 10"
      ]
    },
    {
      "cell_type": "code",
      "execution_count": 10,
      "metadata": {
        "id": "VlJLc2oMxr0A"
      },
      "outputs": [],
      "source": [
        "INTERVAL_WINDOW = 30"
      ]
    },
    {
      "cell_type": "code",
      "execution_count": 11,
      "metadata": {
        "id": "QRjBCypDHrfJ"
      },
      "outputs": [],
      "source": [
        "#set number of periods about which receiving forecast\n",
        "n_future = 7"
      ]
    },
    {
      "cell_type": "markdown",
      "metadata": {
        "id": "7V2ikXz9TYsD"
      },
      "source": [
        "By setting the `INTERVAL_WINDOW `to 30, it means calculating the volatility over a 30-day time window. This value is derived from practical experiments, it is shown that the `INTERVAL_WINDOW` equal to 30 provides a good granularity.\n",
        "\n",
        "The positive aspect of calculating volatility over a restricted time window like the `INTERVAL_WINDOW` is that it can provide a more sensitive and up-to-date measure of return variability in the short term. Some of the advantages include:\n",
        "\n",
        "* Sensitivity to recent changes: By using a restricted time window, volatility will be primarily influenced by the most recent returns. This can be useful in quickly capturing volatility changes in the short term, such as during periods of high uncertainty or significant news that can impact asset prices.\n",
        "* Adaptability to changing market conditions: Financial markets can experience significant and sudden changes in conditions. By using a restricted time window, the volatility calculation will be more responsive to these changes, allowing for faster identification of periods of higher volatility or changes in price dynamics.\n",
        "* Response to seasonal or cyclical events: If there are seasonal or cyclical patterns in asset returns, using a restricted time window can help capture these fluctuations in the short term. For example, there may be increased volatility during holiday periods or during the sales season.\n",
        "However, it's important to consider that a broader time window can provide a more comprehensive and stable view of long-term volatility. Therefore, the use of a restricted time window like the `INTERVAL_WINDOW` is a choice that depends on the specific context of the analysis and the objectives of the investor or researcher.\n",
        "\n",
        "\n",
        "\n"
      ]
    },
    {
      "cell_type": "markdown",
      "metadata": {
        "id": "Izt9Z-RDx-OZ"
      },
      "source": [
        "Here are some approximations for common time intervals:\n",
        "\n",
        "-> **7 days (1 week)**: Set forecast_horizon to 5 (assuming a 5-day trading week).\n",
        "\n",
        "-> **30 days (1 month)**: Set forecast_horizon to approximately 20 (considering an average of 20 trading days in a month).\n",
        "\n",
        "-> **90 days (3 months)**: Set forecast_horizon to around 60 (based on approximately 60 trading days in 3 months).\n",
        "\n",
        "-> **150 days (5 months)**: Set forecast_horizon to roughly 100 (considering an average of 20 trading days per month)."
      ]
    },
    {
      "cell_type": "code",
      "execution_count": 12,
      "metadata": {
        "id": "GONBLvI0x780"
      },
      "outputs": [],
      "source": [
        "def switch(n_future):\n",
        "  match (n_future):\n",
        "    case 7:\n",
        "      return 5\n",
        "    case 30:\n",
        "      return 20\n",
        "    case 90:\n",
        "      return 60\n",
        "    case 150:\n",
        "      return 100\n"
      ]
    },
    {
      "cell_type": "code",
      "execution_count": 13,
      "metadata": {
        "id": "7PvU_coMzjgO"
      },
      "outputs": [],
      "source": [
        "horizon = switch(n_future)"
      ]
    },
    {
      "cell_type": "markdown",
      "metadata": {
        "id": "yPl1tJwoxv9v"
      },
      "source": [
        "#**Data Preparation and Data Exploration**\n",
        "\n",
        "* Start with a time series dataset of one financial asset.\n",
        "* Implement time-based interpolation using spline interpolation in order to deal with missing values in the dataset.\n",
        "* Calulate returns as daily percentage change using the function 'pct_change()'.\n",
        "* Calculate log returns.\n",
        "\n"
      ]
    },
    {
      "cell_type": "code",
      "execution_count": 14,
      "metadata": {
        "id": "32ChyJQqxrit",
        "colab": {
          "base_uri": "https://localhost:8080/",
          "height": 140
        },
        "outputId": "0b1d82f9-e0d9-4e38-877e-f2c66b54a83e"
      },
      "outputs": [
        {
          "output_type": "error",
          "ename": "IndentationError",
          "evalue": "ignored",
          "traceback": [
            "\u001b[0;36m  File \u001b[0;32m\"<ipython-input-14-fa31370d5509>\"\u001b[0;36m, line \u001b[0;32m4\u001b[0m\n\u001b[0;31m    tckr = f.read()\u001b[0m\n\u001b[0m    ^\u001b[0m\n\u001b[0;31mIndentationError\u001b[0m\u001b[0;31m:\u001b[0m expected an indented block after 'with' statement on line 3\n"
          ]
        }
      ],
      "source": [
        "#tckr = \"ABNB\"\n",
        "\n",
        "with open('jobname', 'r') as f:\n",
        "tckr = f.read()\n",
        "\n",
        "\n",
        "ticker = yf.Ticker(tckr)\n",
        "\n",
        "start = datetime(2014, 1, 1)\n",
        "end = datetime(2023,6,1)\n",
        "\n",
        "df = ticker.history(start=start, end=end, interval=\"1d\")"
      ]
    },
    {
      "cell_type": "code",
      "execution_count": null,
      "metadata": {
        "id": "1Aowb7mwe__u"
      },
      "outputs": [],
      "source": [
        "df = df.drop(['Dividends', 'Stock Splits'], axis=1)"
      ]
    },
    {
      "cell_type": "code",
      "execution_count": null,
      "metadata": {
        "id": "38jXm28veusr"
      },
      "outputs": [],
      "source": [
        "print(df)"
      ]
    },
    {
      "cell_type": "code",
      "execution_count": null,
      "metadata": {
        "id": "QqotgppwNL1e"
      },
      "outputs": [],
      "source": [
        "# Create a mask for missing values\n",
        "mask = df.isnull()\n",
        "\n",
        "# Iterate over the columns to apply time-based interpolation\n",
        "for column in df.columns:\n",
        "    # Skip columns that don't have missing values\n",
        "    if not mask[column].any():\n",
        "        continue\n",
        "\n",
        "    # Create a Series of time values corresponding to the missing values\n",
        "    time_values = pd.to_numeric(df[mask[column]].index)\n",
        "\n",
        "    # Create a Series of observed values without missing values\n",
        "    observed_values = df.loc[~mask[column], column]\n",
        "\n",
        "    # Perform spline interpolation\n",
        "    interpolated_values = interp1d(pd.to_numeric(df.loc[~mask[column]].index), observed_values, kind='cubic')(time_values)\n",
        "\n",
        "    # Update the DataFrame with interpolated values\n",
        "    df.loc[mask[column], column] = interpolated_values"
      ]
    },
    {
      "cell_type": "code",
      "execution_count": null,
      "metadata": {
        "id": "fYGX9vfONJa8"
      },
      "outputs": [],
      "source": [
        "# Create a figure with subplots\n",
        "fig, axs = plt.subplots(2, 2, figsize=(12, 8))\n",
        "fig.suptitle('Data Visualizations for {}'.format(tckr), fontsize=16)\n",
        "\n",
        "# Line Graph - Volatility Over Time\n",
        "axs[0, 0].plot(df['Close'], color='blue')\n",
        "axs[0, 0].set_xlabel('Date')\n",
        "axs[0, 0].set_ylabel('Closing Price')\n",
        "axs[0, 0].set_title('Closing Price Over Time')\n",
        "\n",
        "# Histogram - Daily Returns\n",
        "axs[0, 1].hist(df['Close'].pct_change(), bins=30, edgecolor='black')\n",
        "axs[0, 1].set_xlabel('Daily Returns')\n",
        "axs[0, 1].set_ylabel('Frequency')\n",
        "axs[0, 1].set_title('Distribution of Daily Returns')\n",
        "\n",
        "# Scatter Plot - High vs. Low Prices\n",
        "axs[1, 0].scatter(df['High'], df['Low'], color='green')\n",
        "axs[1, 0].set_xlabel('High Price')\n",
        "axs[1, 0].set_ylabel('Low Price')\n",
        "axs[1, 0].set_title('High vs. Low Prices')\n",
        "\n",
        "# Scatter Plot - Volume vs. Close Price\n",
        "axs[1, 1].scatter(df['Volume'], df['Close'], color='purple')\n",
        "axs[1, 1].set_xlabel('Volume')\n",
        "axs[1, 1].set_ylabel('Closing Price')\n",
        "axs[1, 1].set_title('Volume vs. Closing Price')\n",
        "\n",
        "# Adjust the spacing between subplots\n",
        "plt.tight_layout()\n",
        "\n",
        "# Display the plot\n",
        "plt.show()"
      ]
    },
    {
      "cell_type": "markdown",
      "metadata": {
        "id": "tpiGPRyuQIYm"
      },
      "source": [
        "**Volatility:** Volatility measures the degree of variation or dispersion of returns. It quantifies the level of uncertainty or risk associated with an asset's price movements. Volatility is typically calculated as the standard deviation or variance of returns. Higher volatility indicates larger price fluctuations, which implies greater risk.\n",
        "\n",
        "**Volatility and returns:** Volatility is a measure of the dispersion of returns. Higher volatility indicates a wider range of returns, indicating greater uncertainty or risk. Volatility is commonly used to assess the risk associated with an asset or portfolio.\n",
        "\n",
        "**Volatility and log returns:** Volatility is typically calculated based on log returns rather than simple returns. This is because log returns have better statistical properties for modeling and analysis. The volatility calculated using log returns is often referred to as historical volatility or realized volatility."
      ]
    },
    {
      "cell_type": "code",
      "execution_count": null,
      "metadata": {
        "id": "y9eBlnrzy70I"
      },
      "outputs": [],
      "source": [
        "#calculate price returns as daily percentage using pct_change()\n",
        "df['returns'] = 100 * df.Close.pct_change().dropna()\n",
        "\n",
        "#df.Close.shift(1) è la riga successiva della colonna che rappresenta il prezzo di chiusura del giorno successivo\n",
        "df['log_returns'] = np.log(df.Close/df.Close.shift(1)).dropna()"
      ]
    },
    {
      "cell_type": "code",
      "execution_count": null,
      "metadata": {
        "id": "AXtnIwrOzF_X"
      },
      "outputs": [],
      "source": [
        "#devo droppare la prima riga perchè il valore pt-1 non esiste\n",
        "df.drop(df.index[0], inplace=True)\n",
        "df.dropna(inplace=True)\n",
        "df.describe()"
      ]
    },
    {
      "cell_type": "code",
      "execution_count": null,
      "metadata": {
        "id": "FC7t0xh9HNXm"
      },
      "outputs": [],
      "source": [
        "def split_dataset(dataframe, validation_percentage, test_percentage):\n",
        "    dataset_size = len(dataframe)\n",
        "\n",
        "    # Calcola le dimensioni dei set in base alle percentuali fornite\n",
        "    val_size = int(dataset_size * validation_percentage / 100)\n",
        "    test_size = int(dataset_size * test_percentage / 100)\n",
        "    train_size = dataset_size - val_size - test_size\n",
        "\n",
        "\n",
        "    return val_size, test_size, train_size"
      ]
    },
    {
      "cell_type": "code",
      "execution_count": null,
      "metadata": {
        "id": "edz4xYDn0HuY"
      },
      "outputs": [],
      "source": [
        "#plot distribution plots of log returns\n",
        "with sns.axes_style(\"whitegrid\"):\n",
        "    fig, axes = plt.subplots(nrows=2, ncols=2, figsize=(18,12))\n",
        "\n",
        "    axes[0][0].plot(df.returns, color='blue')\n",
        "    axes[0][0].set_title('Daily Returns')\n",
        "\n",
        "    sns.distplot(df.returns, norm_hist=True, fit=stats.norm, color='blue',\n",
        "                bins=50, ax=axes[0][1])\n",
        "    axes[0][1].set_title('Daily Returns')\n",
        "\n",
        "\n",
        "    axes[1][0].plot(df.log_returns, color='green')\n",
        "    axes[1][0].set_title('Daily Log Returns')\n",
        "\n",
        "    sns.distplot(df.log_returns, norm_hist=True, fit=stats.norm, color='green',\n",
        "                bins=50, ax=axes[1][1])\n",
        "    axes[1][1].set_title('Daily Log Returns')\n",
        "    plt.tight_layout()\n",
        "    fig.show();"
      ]
    },
    {
      "cell_type": "code",
      "execution_count": null,
      "metadata": {
        "id": "x6n8R4wT0WOw"
      },
      "outputs": [],
      "source": [
        "df.log_returns.describe()"
      ]
    },
    {
      "cell_type": "code",
      "execution_count": null,
      "metadata": {
        "id": "eVq6lTySxXP4"
      },
      "outputs": [],
      "source": [
        "#calculate the daily volatility\n",
        "df['volatility'] = df.log_returns.abs()"
      ]
    },
    {
      "cell_type": "code",
      "execution_count": null,
      "metadata": {
        "id": "S1P3M1Mdr0Cn"
      },
      "outputs": [],
      "source": [
        "df.describe()"
      ]
    },
    {
      "cell_type": "code",
      "execution_count": null,
      "metadata": {
        "id": "Sg-iPU8JosBH"
      },
      "outputs": [],
      "source": [
        "# Daily volatility grouped by month\n",
        "\n",
        "# PRESORT MONTHS IN CHRONOLOGICAL ORDER\n",
        "ordered_months = ['Jan', 'Feb', 'Mar', 'Apr', 'May', 'Jun', 'Jul', 'Aug', 'Sep', 'Oct', 'Nov', 'Dec']\n",
        "\n",
        "# GROUP vol_current BY MONTH AND TAKE THE MEAN\n",
        "data = df.groupby(by=[df.index.month_name()])['volatility'].mean()\n",
        "\n",
        "# ABBREVIATE MONTH NAME\n",
        "data.index = [x[:3] for x in data.index]\n",
        "\n",
        "# SELECT PALETTE\n",
        "pal = sns.color_palette(\"GnBu\", len(data))\n",
        "\n",
        "# SORT MONTH BY AVERAGE vol_current\n",
        "rank = data.argsort().argsort().reindex(ordered_months)\n",
        "\n",
        "with sns.axes_style(\"darkgrid\"):\n",
        "    fig, ax = plt.subplots(figsize=(18, 7))\n",
        "\n",
        "    sns.boxplot(x=[x[:3] for x in df.index.month_name()],\n",
        "                y=df['volatility'],\n",
        "                palette=np.array(pal)[rank],\n",
        "                order=ordered_months)\n",
        "    ax.set(xlabel='',\n",
        "           ylabel='Daily Volatility',\n",
        "           title='Daily Volatility Grouped By Month')\n",
        "    plt.show()"
      ]
    },
    {
      "cell_type": "code",
      "execution_count": null,
      "metadata": {
        "id": "YIHmWLTQ2mjN"
      },
      "outputs": [],
      "source": [
        "val_size, test_size, train_size = split_dataset(df, validation_percentage, test_percentage)"
      ]
    },
    {
      "cell_type": "code",
      "execution_count": null,
      "metadata": {
        "id": "I3ILQf-vvXlY"
      },
      "outputs": [],
      "source": [
        "# CONVERT TO INDICES\n",
        "split_time_1 = len(df) - (val_size + test_size)\n",
        "split_time_2 = len(df) - test_size\n",
        "\n",
        "# GET CORRESPONDING DATETIME INDICES FOR EACH SET\n",
        "n_train = df.index[:split_time_1]\n",
        "n_validation = df.index[split_time_1:split_time_2]\n",
        "n_test = df.index[split_time_2:]"
      ]
    },
    {
      "cell_type": "code",
      "execution_count": null,
      "metadata": {
        "id": "6zxFjcCjvjJQ"
      },
      "outputs": [],
      "source": [
        "print(f'TRAINING \\tFrom: {n_train[0]} \\tto: {n_train[-1]} \\t{len(n_train)} days')\n",
        "print(f'VALIDATION \\tFrom: {n_validation[0]} \\tto: {n_validation[-1]} \\t{len(n_validation)} days')\n",
        "print(f'TEST \\t\\tFrom: {n_test[0]} \\tto: {n_test[-1]} \\t{len(n_test)} days')"
      ]
    },
    {
      "cell_type": "markdown",
      "metadata": {
        "id": "k6eK4GnVX6m5"
      },
      "source": [
        "The `realized_volatility_daily` function calculates the daily realized volatility from the daily log returns of a time series. Realized volatility is a measure of the variability of actual observed returns within the specified period."
      ]
    },
    {
      "cell_type": "code",
      "execution_count": null,
      "metadata": {
        "id": "jrARlmPIu42i"
      },
      "outputs": [],
      "source": [
        "def realized_volatility_daily(log_returns):\n",
        "    \"\"\"\n",
        "    Calculate daily realized volatility, which is the square root of the sum of squared log returns.\n",
        "\n",
        "    Parameters:\n",
        "    log_returns (array-like): Array-like object containing the log returns.\n",
        "\n",
        "    Returns:\n",
        "    float: Daily realized volatility.\n",
        "    \"\"\"\n",
        "    squared_returns = np.power(log_returns, 2)\n",
        "    sum_squared_returns = np.sum(squared_returns)\n",
        "    return np.sqrt(sum_squared_returns)"
      ]
    },
    {
      "cell_type": "markdown",
      "metadata": {
        "id": "jOvRQbffTb8l"
      },
      "source": [
        "Let's calculate the realized volatility of the log returns over a rolling window `INTERVAL_WINDOW`.\n",
        "\n",
        "By shifting the log returns by n_future days into the future and then calculating the realized volatility over the same rolling window `INTERVAL_WINDOW` for these shifted returns we get the future volatility. This gives you an estimate of the future realized volatility based on the shifted log returns and this is good for model estimation."
      ]
    },
    {
      "cell_type": "code",
      "execution_count": null,
      "metadata": {
        "id": "TBiUmZb3uZiH"
      },
      "outputs": [],
      "source": [
        "# GET BACKWARD LOOKING REALIZED VOLATILITY\n",
        "df['volatility_current'] = df.log_returns.rolling(window=INTERVAL_WINDOW)\\\n",
        "                                   .apply(realized_volatility_daily)\n",
        "\n",
        "# GET FORWARD LOOKING REALIZED VOLATILITY\n",
        "df['volatility_future'] = df.log_returns.shift(-n_future)\\\n",
        "                                 .rolling(window=INTERVAL_WINDOW)\\\n",
        "                                 .apply(realized_volatility_daily)"
      ]
    },
    {
      "cell_type": "code",
      "execution_count": null,
      "metadata": {
        "id": "UYbie9X0HrAo"
      },
      "outputs": [],
      "source": [
        "# SPLIT CURRENT DAILY REALIZED VOLATILITY INTO 3 PARTS\n",
        "# useful for baseline\n",
        "x_train = df.volatility_current[n_train]\n",
        "x_val = df.volatility_current[n_validation]\n",
        "x_test = df.volatility_current[n_test]"
      ]
    },
    {
      "cell_type": "code",
      "execution_count": null,
      "metadata": {
        "id": "uN79W4tJFaoq"
      },
      "outputs": [],
      "source": [
        "# SPLIT FORWARD VOLATILITY INTO 3 PARTS\n",
        "# (this would be the target)\n",
        "y_train = df.volatility_future[n_train]\n",
        "y_val = df.volatility_future[n_validation]\n",
        "y_test = df.volatility_future[n_test]"
      ]
    },
    {
      "cell_type": "code",
      "execution_count": null,
      "metadata": {
        "id": "ERDN4H9NIuR0"
      },
      "outputs": [],
      "source": [
        "# SPLIT RETURNS INTO 3 PARTS\n",
        "# (this would be the input for GARCH models)\n",
        "r_train = df.returns[n_train]\n",
        "r_val = df.returns[n_validation]\n",
        "r_test = df.returns[n_test]"
      ]
    },
    {
      "cell_type": "code",
      "execution_count": null,
      "metadata": {
        "id": "mFwEy1gPvMSx"
      },
      "outputs": [],
      "source": [
        "df.describe()"
      ]
    },
    {
      "cell_type": "markdown",
      "metadata": {
        "id": "oxQR5P_D3beJ"
      },
      "source": [
        "* In the GARCH modeling framework, it is generally recommended to work with standardized data rather than the raw data. This includes scaling the data before feeding it as input to the GARCH model. By scaling the data, you can ensure that the model treats each variable on a similar scale and avoids any potential issues arising from differences in magnitude."
      ]
    },
    {
      "cell_type": "code",
      "execution_count": null,
      "metadata": {
        "id": "_BAuxCjwWu5t"
      },
      "outputs": [],
      "source": [
        "def transform_to_scaler(scaler, tf_series):\n",
        "    '''\n",
        "    Transform a series to a fitted scaler\n",
        "    '''\n",
        "    idx = tf_series.index\n",
        "    output = pd.Series(scaler.transform(tf_series.values.reshape(-1,1))[:,0],\n",
        "                       index=idx)\n",
        "    return output"
      ]
    },
    {
      "cell_type": "code",
      "execution_count": null,
      "metadata": {
        "id": "esCKFOTPWye3"
      },
      "outputs": [],
      "source": [
        "# INITIATE SCALER\n",
        "scaler = RobustScaler()\n",
        "\n",
        "#ADDESTRAMENTO DELLO SCALER SU TRAIN_DATA\n",
        "scaler = scaler.fit(x_train.values.reshape(-1,1))"
      ]
    },
    {
      "cell_type": "code",
      "execution_count": null,
      "metadata": {
        "id": "b_56X9lH-ul4"
      },
      "outputs": [],
      "source": [
        "# TRANSFORM TRAINING CURRENT & FUTURE VOLATILITIES\n",
        "x_train_scaled = transform_to_scaler(scaler, x_train)\n",
        "y_train_scaled = transform_to_scaler(scaler, y_train)\n",
        "\n",
        "# TRANSFORMING VALIDATION CURRENT & FUTURE VOLATILITIES\n",
        "x_val_scaled = transform_to_scaler(scaler, x_val)\n",
        "y_val_scaled = transform_to_scaler(scaler, y_val)\n",
        "\n",
        "# TRANSFORMING TEST CURRENT & FUTURE VOLATILITIES\n",
        "x_test_scaled = transform_to_scaler(scaler, x_test)\n",
        "y_test_scaled = transform_to_scaler(scaler, y_test)"
      ]
    },
    {
      "cell_type": "code",
      "execution_count": null,
      "metadata": {
        "id": "v4cG-7eFjv2U"
      },
      "outputs": [],
      "source": [
        "# Verifica gli indici dei dati di training\n",
        "print(\"x_train_scaled index:\", x_train_scaled.index)\n",
        "print(\"y_train_scaled index:\", y_train_scaled.index)\n",
        "\n",
        "# Verifica gli indici dei dati di validazione\n",
        "print(\"x_val_scaled index:\", x_val_scaled.index)\n",
        "print(\"y_val_scaled index:\", y_val_scaled.index)\n",
        "\n",
        "# Verifica gli indici dei dati di test\n",
        "print(\"x_test_scaled index:\", x_test_scaled.index)\n",
        "print(\"y_test_scaled index:\", y_test_scaled.index)"
      ]
    },
    {
      "cell_type": "code",
      "execution_count": null,
      "metadata": {
        "id": "22HEvpEUo3wB"
      },
      "outputs": [],
      "source": [
        "x_train_scaled = pd.Series(x_train_scaled)\n",
        "x_val_scaled = pd.Series(x_val_scaled)\n",
        "\n",
        "combined_x_scaled = pd.concat([x_train_scaled, x_val_scaled])"
      ]
    },
    {
      "cell_type": "code",
      "execution_count": null,
      "metadata": {
        "id": "KEVGrQ9IzE_5"
      },
      "outputs": [],
      "source": [
        "#combine train dataset and validation dataset in a wider dataset\n",
        "\n",
        "r_train = pd.Series(r_train)\n",
        "r_val = pd.Series(r_val)\n",
        "r_test = pd.Series(r_test)\n",
        "\n",
        "combined_data = pd.concat([r_train, r_val])"
      ]
    },
    {
      "cell_type": "code",
      "execution_count": null,
      "metadata": {
        "id": "kIpiAyCiz79c"
      },
      "outputs": [],
      "source": [
        "\"\"\"#prepare the entire returns dataset useful to make the prediction\n",
        "returns_dataset = pd.concat([r_train, r_val, r_test])\"\"\""
      ]
    },
    {
      "cell_type": "code",
      "execution_count": null,
      "metadata": {
        "id": "ciYNAwGQt2jh"
      },
      "outputs": [],
      "source": [
        "combined_data.describe()"
      ]
    },
    {
      "cell_type": "code",
      "execution_count": null,
      "metadata": {
        "id": "bPFXLIWDdYli"
      },
      "outputs": [],
      "source": [
        "# plot combined_data\n",
        "plt.figure(figsize=(12, 6))\n",
        "plt.plot(combined_data, color='blue', label='Combined Train and Validation data')\n",
        "plt.xlabel('Time')\n",
        "plt.ylabel('Value')\n",
        "plt.legend()\n",
        "plt.title('Train and Validation Dataset provided in input to TGARCH model')\n",
        "plt.show()"
      ]
    },
    {
      "cell_type": "code",
      "execution_count": null,
      "metadata": {
        "id": "FDb13hQHLwOK"
      },
      "outputs": [],
      "source": [
        "# PLOTTING MODEL PREDICTIONS VS. TARGET VALUES\n",
        "def viz_model(y_true, y_pred, model_name):\n",
        "\n",
        "    sns.set_context(\"paper\", font_scale=1.7)\n",
        "    plt.rcParams[\"axes.grid\"] = False\n",
        "\n",
        "    with sns.axes_style(\"whitegrid\"):\n",
        "        plt.figure(figsize=(18,7))\n",
        "\n",
        "        plt.plot(y_true, color='blue', lw=2,\n",
        "                label=f\"Target Volatility\")\n",
        "        plt.plot(y_pred, color='orange', lw=2.5,\n",
        "                label=f'Forecasted Volatility')\n",
        "\n",
        "        plt.title(f'{model_name} \\non Validation Data')\n",
        "        plt.legend(loc='best', frameon=True)"
      ]
    },
    {
      "cell_type": "code",
      "execution_count": null,
      "metadata": {
        "id": "SDLDcY_QLuXm"
      },
      "outputs": [],
      "source": [
        "sns.set_context(\"paper\", font_scale=1.8)\n",
        "with sns.axes_style(\"darkgrid\"):\n",
        "    plt.figure(figsize=(18,7))\n",
        "\n",
        "    plt.plot(df.log_returns, color='gray', label='Daily Log Returns', alpha=0.4)\n",
        "\n",
        "    plt.plot(y_train_scaled, color='blue',\n",
        "             label='Scaled Training Volatility', lw=1.5)\n",
        "    plt.plot(y_val_scaled, color='red',\n",
        "             label='Scaled Validation Volatility', lw=1.5)\n",
        "    plt.plot(y_test_scaled, color='green',\n",
        "             label='Scaled Test Volatility', lw=1.5)\n",
        "\n",
        "    plt.plot()\n",
        "    plt.title('Training / Validation / Test Splits', fontsize=20)\n",
        "    plt.legend(frameon=True)\n",
        "    plt.show();"
      ]
    },
    {
      "cell_type": "markdown",
      "metadata": {
        "id": "udbkC-PwMXSZ"
      },
      "source": [
        "#**Performance metrics**\n",
        "\n",
        "\n"
      ]
    },
    {
      "cell_type": "code",
      "execution_count": null,
      "metadata": {
        "id": "jryUoK1qMk3q"
      },
      "outputs": [],
      "source": [
        "# DEFINE ROOT MEAN SQUARED PERCENTAGE ERROR FUNCTION\n",
        "def RMSPE(y_true, y_pred):\n",
        "    \"\"\"\n",
        "    Compute Root Mean Squared Percentage Error between 2 arrays\n",
        "    \"\"\"\n",
        "    output = np.sqrt(np.mean(np.square((y_true - y_pred) / ((y_true + y_pred) / 2))))\n",
        "    return output"
      ]
    },
    {
      "cell_type": "code",
      "execution_count": null,
      "metadata": {
        "id": "8sp75LeDMsKE"
      },
      "outputs": [],
      "source": [
        "# DEFINE ROOT MEAN SQUARED ERROR FUNCTION\n",
        "def RMSE(y_true, y_pred):\n",
        "    \"\"\"\n",
        "    Compute Root Mean Squared Error between 2 arrays\n",
        "    \"\"\"\n",
        "    output = np.sqrt(mse(y_true, y_pred))\n",
        "    return output"
      ]
    },
    {
      "cell_type": "code",
      "execution_count": null,
      "metadata": {
        "id": "Q10LCdc4M1JU"
      },
      "outputs": [],
      "source": [
        "# INITIATE A DATAFRAME FOR MODEL PERFORMANCE TRACKING & COMPARISON\n",
        "perf_df = pd.DataFrame(columns=['Model', 'Validation RMSPE', 'Validation RMSE'])"
      ]
    },
    {
      "cell_type": "code",
      "execution_count": null,
      "metadata": {
        "id": "MuqRf1TXZhO_"
      },
      "outputs": [],
      "source": [
        "def scale_tf_cond_vol(model_result):\n",
        "    '''\n",
        "    Scale & Transform Conditional Volatility\n",
        "    Estimated by GARCH Models\n",
        "    '''\n",
        "    # OBTAIN ESTIMATED CONDITIONAL VOLATILITY FROM MODEL RESULT\n",
        "    cond_vol = model_result.conditional_volatility\n",
        "\n",
        "    # INITIATE SCALER\n",
        "    scaler = RobustScaler()\n",
        "\n",
        "    # FIT SCALER TO MODEL'S ESTIMATED CONDITIONAL VOLATILITY\n",
        "    scaler = scaler.fit(cond_vol.values.reshape(-1,1))\n",
        "\n",
        "    scaled_cond_vol = transform_to_scaler(scaler, cond_vol)\n",
        "    return scaler, scaled_cond_vol"
      ]
    },
    {
      "cell_type": "code",
      "execution_count": null,
      "metadata": {
        "id": "KqLlxY_SMHKY"
      },
      "outputs": [],
      "source": [
        "# A FUNCTION THAT LOGS MODEL NAME, RMSE AND RMPSE INTO perf_df\n",
        "# FOR EASY COMPARISON LATER\n",
        "def log_performance(y_true, y_pred, model_name):\n",
        "    perf_df.loc[len(perf_df.index)] = [model_name,\n",
        "                                       RMSPE(y_true, y_pred),\n",
        "                                       RMSE(y_true, y_pred)]\n",
        "    return perf_df"
      ]
    },
    {
      "cell_type": "markdown",
      "metadata": {
        "id": "l43hyvAfa3aT"
      },
      "source": [
        "#**Naive Forecasting**\n"
      ]
    },
    {
      "cell_type": "markdown",
      "metadata": {
        "id": "qa5Wi0Qmn3Rl"
      },
      "source": [
        "The Naive forecasting method is a very simple forecasting technique that assumes the future value of a time series is equal to the last known value. In practice, to make a forecast for a certain point in the future, you take the most recent known value of the time series and repeat it for the entire forecast period.\n",
        "\n",
        "In other words, this method doesn't analyze trends or patterns in the time series, but simply projects the most recent value forward. This approach is useful only when predicting a constant or rather stable trend in the data. It's important to note that the Naive method doesn't account for any patterns, seasonality, or external factors that could influence the time series."
      ]
    },
    {
      "cell_type": "code",
      "execution_count": null,
      "metadata": {
        "id": "4QvuN6TWcvdi"
      },
      "outputs": [],
      "source": [
        "# Create Naive Forecast using the last known value\n",
        "naive_forecast = np.repeat(x_val_scaled.iloc[-1], len(y_val_scaled))"
      ]
    },
    {
      "cell_type": "code",
      "execution_count": null,
      "metadata": {
        "id": "CBnw8F_ycyMR"
      },
      "outputs": [],
      "source": [
        "# Append the naive forecast to the DataFrame\n",
        "log_performance(y_val_scaled, naive_forecast, 'Naive Forecasting (Last Value)')"
      ]
    },
    {
      "cell_type": "code",
      "execution_count": null,
      "metadata": {
        "id": "2UEa_rm6buFf"
      },
      "outputs": [],
      "source": [
        "# PLOTTING PREDICTIONS VS. TARGET VALUES ON VALIDATION SET\n",
        "viz_model(y_val_scaled, x_val_scaled, 'Naive Forecasting')\n",
        "plt.show();"
      ]
    },
    {
      "cell_type": "code",
      "execution_count": null,
      "metadata": {
        "id": "lrc0uLm0O3ZG"
      },
      "outputs": [],
      "source": [
        "# Create Naive Forecast using the last known value for the test set\n",
        "naive_forecast_test = np.repeat(x_val_scaled.iloc[-1], len(y_test_scaled))\n",
        "\n",
        "# Plotting the Naive Forecast on the test set\n",
        "plt.figure(figsize=(12, 6))\n",
        "plt.plot(y_test_scaled.index, naive_forecast_test, label='Naive Forecast (Last Value)')\n",
        "plt.legend()\n",
        "plt.title(\"Naive Forecast (Last Value) - Test Set\")\n",
        "plt.xlabel(\"Time\")\n",
        "plt.ylabel(\"Volatility\")\n",
        "plt.show()"
      ]
    },
    {
      "cell_type": "markdown",
      "metadata": {
        "id": "0BYIUF7IJGkF"
      },
      "source": [
        "#**Random Walk With Drift**"
      ]
    },
    {
      "cell_type": "code",
      "execution_count": null,
      "metadata": {
        "id": "-K9f56oIJF0p"
      },
      "outputs": [],
      "source": [
        "# Calculate the drift (average change in the series)\n",
        "drift = x_train_scaled.diff().mean()\n",
        "print(drift)"
      ]
    },
    {
      "cell_type": "code",
      "execution_count": null,
      "metadata": {
        "id": "ysvcsRtgJPOW"
      },
      "outputs": [],
      "source": [
        "# Create Random Walk with Drift Forecast using the last known value and drift\n",
        "random_walk_drift_preds = x_val_scaled + drift"
      ]
    },
    {
      "cell_type": "code",
      "execution_count": null,
      "metadata": {
        "id": "wY6o2FctJbSh"
      },
      "outputs": [],
      "source": [
        "# PLOTTING PREDICTIONS VS. TARGET VALUES ON VALIDATION SET\n",
        "viz_model(y_val_scaled, random_walk_drift_preds, 'Random Walk with Drift Forecasting')\n",
        "plt.show()"
      ]
    },
    {
      "cell_type": "code",
      "execution_count": null,
      "metadata": {
        "id": "y9grAgGiKgyh"
      },
      "outputs": [],
      "source": [
        "# Append the random walk with drift forecast to the DataFrame\n",
        "log_performance(y_val_scaled, random_walk_drift_preds, 'Random Walk with Drift Forecasting')"
      ]
    },
    {
      "cell_type": "code",
      "execution_count": null,
      "metadata": {
        "id": "bzGJFraCOm-E"
      },
      "outputs": [],
      "source": [
        "# Calculate the drift (average change in the series)\n",
        "drift = x_train_scaled.diff().mean()\n",
        "\n",
        "# Create Random Walk with Drift Forecast using the last known value and drift for test set\n",
        "random_walk_drift_test_preds = x_test_scaled + drift\n",
        "\n",
        "# Plotting the Random Walk with Drift Forecast on the test set\n",
        "plt.figure(figsize=(12, 6))\n",
        "plt.plot(y_test_scaled.index, random_walk_drift_test_preds, label='Random Walk with Drift Forecast')\n",
        "plt.legend()\n",
        "plt.title(\"Random Walk with Drift Forecast - Test Set\")\n",
        "plt.xlabel(\"Time\")\n",
        "plt.ylabel(\"Volatility\")\n",
        "plt.show()"
      ]
    },
    {
      "cell_type": "markdown",
      "metadata": {
        "id": "OQCemlxkNBp2"
      },
      "source": [
        "#**ARIMA**"
      ]
    },
    {
      "cell_type": "code",
      "execution_count": null,
      "metadata": {
        "id": "_4Y2nAUjYm0v"
      },
      "outputs": [],
      "source": [
        "p = 1  # AR order\n",
        "d = 1  # I order\n",
        "q = 1  # MA order"
      ]
    },
    {
      "cell_type": "code",
      "execution_count": null,
      "metadata": {
        "id": "yoT4P3IBWU6R"
      },
      "outputs": [],
      "source": [
        "# ARIMA TRAINING\n",
        "arima_model = ARIMA(combined_data, order=(p, d, q))\n",
        "arima_model_fit = arima_model.fit()"
      ]
    },
    {
      "cell_type": "code",
      "execution_count": null,
      "metadata": {
        "id": "HbbMa4slabH8"
      },
      "outputs": [],
      "source": [
        "# Predict using the ARIMA model\n",
        "arima_forecast = arima_model_fit.predict(start=len(y_train_scaled), end=len(y_train_scaled) + len(y_val_scaled) - 1, dynamic=False)"
      ]
    },
    {
      "cell_type": "code",
      "execution_count": null,
      "metadata": {
        "id": "jpbhJs3fjsg4"
      },
      "outputs": [],
      "source": [
        "# Resetta l'indice dell'array arima_forecast\n",
        "arima_forecast.reset_index(drop=True, inplace=True)\n",
        "\n",
        "y_val_scaled_temp = y_val_scaled\n",
        "# Resetta l'indice dell'array y_true\n",
        "y_val_scaled_temp.reset_index(drop=True, inplace=True)\n",
        "\n",
        "# Ora gli indici degli array sono droppati e si è in grado di calcolare le metriche di performance senza ottenere valori NaN"
      ]
    },
    {
      "cell_type": "code",
      "execution_count": null,
      "metadata": {
        "id": "J21GzwJGfGkC"
      },
      "outputs": [],
      "source": [
        "# Calculate performance metric (log_rmse)\n",
        "log_performance(y_val_scaled, arima_forecast, 'ARIMA Forecasting')"
      ]
    },
    {
      "cell_type": "code",
      "execution_count": null,
      "metadata": {
        "id": "rKb193kfyK8u"
      },
      "outputs": [],
      "source": [
        "arima_forecast_scaled = transform_to_scaler(scaler, arima_forecast)"
      ]
    },
    {
      "cell_type": "code",
      "execution_count": null,
      "metadata": {
        "id": "vYcJ31wfyQot"
      },
      "outputs": [],
      "source": [
        "# PLOTTING PREDICTIONS VS. TARGET VALUES ON VALIDATION SET\n",
        "viz_model(y_val_scaled, arima_forecast_scaled, 'ARIMA Forecasting')\n",
        "plt.show()"
      ]
    },
    {
      "cell_type": "markdown",
      "metadata": {
        "id": "EUGO_8xqNxD7"
      },
      "source": [
        "#**Exponential Smoothing**"
      ]
    },
    {
      "cell_type": "code",
      "execution_count": null,
      "metadata": {
        "id": "JGeyN_SdN8iS"
      },
      "outputs": [],
      "source": [
        "# Train Exponential Smoothing model\n",
        "ets_model = sm.tsa.ExponentialSmoothing(combined_data, seasonal='add', seasonal_periods=n_future).fit()"
      ]
    },
    {
      "cell_type": "code",
      "execution_count": null,
      "metadata": {
        "id": "CGy2dP1vouhA"
      },
      "outputs": [],
      "source": [
        "# Make forecasts using the ETS model with predict\n",
        "ets_forecast = ets_model.predict(start=len(y_val_scaled), end=len(y_val_scaled)+len(y_val_scaled)-1)"
      ]
    },
    {
      "cell_type": "code",
      "execution_count": null,
      "metadata": {
        "id": "ldyEwchXpV7Z"
      },
      "outputs": [],
      "source": [
        "# Resetta l'indice dell'array arima_forecast\n",
        "ets_forecast.reset_index(drop=True, inplace=True)\n",
        "\n",
        "y_val_scaled_temp = y_val_scaled\n",
        "# Resetta l'indice dell'array y_true\n",
        "y_val_scaled_temp.reset_index(drop=True, inplace=True)\n",
        "\n",
        "# Ora gli indici degli array sono droppati e si è in grado di calcolare le metriche di performance senza ottenere valori NaN"
      ]
    },
    {
      "cell_type": "code",
      "execution_count": null,
      "metadata": {
        "id": "ba16tcY1pIBB"
      },
      "outputs": [],
      "source": [
        "# Calculate performance metric (log_rmse)\n",
        "log_performance(y_val_scaled_temp, ets_forecast, 'Exponential Smoothing Forecasting')"
      ]
    },
    {
      "cell_type": "code",
      "execution_count": null,
      "metadata": {
        "id": "KsIjyCY-yXLC"
      },
      "outputs": [],
      "source": [
        "ets_forecast_scaled = transform_to_scaler(scaler, ets_forecast)"
      ]
    },
    {
      "cell_type": "code",
      "execution_count": null,
      "metadata": {
        "id": "i9foXEB1ydZZ"
      },
      "outputs": [],
      "source": [
        "# PLOTTING PREDICTIONS VS. TARGET VALUES ON VALIDATION SET\n",
        "viz_model(y_val_scaled, ets_forecast_scaled, 'Exponential Smoothing Forecasting')\n",
        "plt.show()"
      ]
    },
    {
      "cell_type": "markdown",
      "metadata": {
        "id": "B7Fj-sTVV-Ar"
      },
      "source": [
        "#**TGARCH**"
      ]
    },
    {
      "cell_type": "markdown",
      "metadata": {
        "id": "KTQbpgXC9TAY"
      },
      "source": [
        "#TGARCH Hyperparameter optimization"
      ]
    },
    {
      "cell_type": "code",
      "execution_count": null,
      "metadata": {
        "id": "-D4DyjrL6ItJ"
      },
      "outputs": [],
      "source": [
        "import arch\n",
        "from arch import arch_model\n",
        "import matplotlib.pyplot as plt"
      ]
    },
    {
      "cell_type": "code",
      "execution_count": null,
      "metadata": {
        "id": "9MGZFKN-9gfJ"
      },
      "outputs": [],
      "source": [
        "def objective_int(trial):\n",
        "    p = trial.suggest_int('p', 1, 5)\n",
        "    o = trial.suggest_int('o', 0, 5)\n",
        "    q = trial.suggest_int('q', 1, 5)\n",
        "\n",
        "    model = arch_model(combined_data, p=p, o=o, q=q, power=2.0)\n",
        "    model_fit = model.fit(disp='off')\n",
        "\n",
        "    return model_fit.aic"
      ]
    },
    {
      "cell_type": "code",
      "execution_count": null,
      "metadata": {
        "id": "cNj4llqP9q3d"
      },
      "outputs": [],
      "source": [
        "# Create two separate Optuna studies and optimize the objective functions\n",
        "study_int = optuna.create_study(direction='minimize')\n",
        "\n",
        "study_int.optimize(objective_int, n_trials=100)"
      ]
    },
    {
      "cell_type": "code",
      "execution_count": null,
      "metadata": {
        "id": "aIzazNiR9ySd"
      },
      "outputs": [],
      "source": [
        "# Get the best hyperparameters\n",
        "best_params_int = study_int.best_params\n",
        "print(\"Best integer hyperparameters:\", best_params_int)"
      ]
    },
    {
      "cell_type": "markdown",
      "metadata": {
        "id": "06m-ZqIA4hog"
      },
      "source": [
        "#**Train the TGARCH predictor**\n",
        "\n",
        "* In this case a TGARCH predictor is used.\n",
        "* The process of estimating the GARCH model involves using the log returns as input to calculate the conditional volatility, which represents the estimated or forecasted volatility.\n",
        "* The TGARCH model estimates the conditional volatility, which represents the expected level of volatility given past information.\n"
      ]
    },
    {
      "cell_type": "code",
      "execution_count": null,
      "metadata": {
        "id": "o8SSDO-h6P1p"
      },
      "outputs": [],
      "source": [
        "# Train the model with the best hyperparameters for both integer and float parameters\n",
        "best_params_int = study_int.best_params\n",
        "\n",
        "best_p_int = best_params_int['p']\n",
        "best_o_int = best_params_int['o']\n",
        "best_q_int = best_params_int['q']\n",
        "\n",
        "best_model = arch_model(combined_data, p=best_p_int, o=best_o_int, q=best_q_int, power=2.0, dist='ged')\n",
        "best_model_fit = best_model.fit(disp='off')\n",
        "\n",
        "print()\n",
        "print(best_model_fit.summary())"
      ]
    },
    {
      "cell_type": "code",
      "execution_count": null,
      "metadata": {
        "id": "9Y7HSvtqSYGW"
      },
      "outputs": [],
      "source": [
        "# GET VOLATILITY SCALER & SCALED CONDITIONAL VOLATILITY FROM MODEL RESULT\n",
        "scaler_garch, scaled_cond_vol = scale_tf_cond_vol(best_model_fit)\n",
        "\n",
        "scaled_cond_vol.describe()"
      ]
    },
    {
      "cell_type": "code",
      "execution_count": null,
      "metadata": {
        "id": "awkwALFvIDeN"
      },
      "outputs": [],
      "source": [
        "# VISUALIZE MODEL'S ESTIMATED CONDITIONAL VOLATILITY\n",
        "# WITH SCALED vol_current CALCULATED ABOVE\n",
        "def viz_cond_vol(cond_vol_series, model_name):\n",
        "    with sns.axes_style(\"whitegrid\"):\n",
        "        fig, ax = plt.subplots(figsize=(18,7))\n",
        "\n",
        "        #combined_x_scaled è la serie di dati di target\n",
        "        ax.plot(combined_x_scaled, color='blue', lw=2,\n",
        "                #variabile INTERVAL_WINDOW viene utilizzata per indicare la finestra temporale sulla quale è stata calcolata la volatilità realizzata\n",
        "                label=f'Scaled {INTERVAL_WINDOW}-Day Interval Daily Realized Volatility')\n",
        "        ax.plot(cond_vol_series, color='orange', lw=2,\n",
        "                label=f'Scaled {model_name} Estimated Conditional Volatility')\n",
        "        ax.set_title('Training Set')\n",
        "        plt.legend()\n",
        "        plt.show();\n",
        "\n"
      ]
    },
    {
      "cell_type": "code",
      "execution_count": null,
      "metadata": {
        "id": "rAiYoDf3SbW9"
      },
      "outputs": [],
      "source": [
        "viz_cond_vol(scaled_cond_vol, f'TGARCH({best_p_int},{best_o_int},{best_q_int})')"
      ]
    },
    {
      "cell_type": "markdown",
      "metadata": {
        "id": "OK7UBnWXfXlv"
      },
      "source": [
        "#**Generate the forecast: One-Step Expanding Window Forecast**"
      ]
    },
    {
      "cell_type": "markdown",
      "metadata": {
        "id": "oGJx2OsNhj9T"
      },
      "source": [
        "I am implementing a rolling one-step forecasting approach, where you refit your model using all the available data up to a certain time step and then generate predictions for the next `n_future` days. This is a common approach in time series forecasting, especially in cases where the data is non-stationary and the model needs to be updated with new information over time."
      ]
    },
    {
      "cell_type": "markdown",
      "metadata": {
        "id": "ifngAuzU6hTy"
      },
      "source": [
        "![Unknown.jpg](data:image/jpeg;base64,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)"
      ]
    },
    {
      "cell_type": "markdown",
      "metadata": {
        "id": "13Grk465TFkm"
      },
      "source": [
        "Firstly using the rolling window forecast, make a forecast on the Validation Dataset in order to calculate performance metrics"
      ]
    },
    {
      "cell_type": "code",
      "execution_count": null,
      "metadata": {
        "id": "sX7xhxjGSflR"
      },
      "outputs": [],
      "source": [
        "# ROLLING WINDOW FORECAST\n",
        "# INITIALIZING rolling_forecasts VALUES LIST\n",
        "rolling_forecasts = []\n",
        "\n",
        "# ITERATE OVER EACH TIME STEP IN THE VALIDATION SET\n",
        "for i in range(len(n_validation)):\n",
        "    # GET THE DATA AT ALL PREVIOUS TIME STEPS\n",
        "    idx = n_validation[i]\n",
        "    train = df.returns[:idx].dropna()\n",
        "\n",
        "    # TRAIN MODEL USING ALL PREVIOUS TIME STEPS' DATA\n",
        "    model = arch_model(train, p=best_p_int, o=best_o_int, q=best_q_int, power=2.0,\n",
        "                       dist='ged')\n",
        "    model_fit = model.fit(disp='off')\n",
        "\n",
        "    # MAKE PREDICTION n_future DAYS OUT\n",
        "    # USING BOOTSTRAP METHOD\n",
        "    vaR = model_fit.forecast(horizon=n_future,\n",
        "                             reindex=False,\n",
        "                             ).variance.values\n",
        "    pred = np.sqrt(np.mean(vaR))\n",
        "\n",
        "    # APPEND TO rolling_forecasts LIST\n",
        "    rolling_forecasts.append(pred)\n",
        "\n",
        "tg_preds = pd.DataFrame(rolling_forecasts, index=n_validation)"
      ]
    },
    {
      "cell_type": "code",
      "execution_count": null,
      "metadata": {
        "id": "oPEdtwQaTQUQ"
      },
      "outputs": [],
      "source": [
        "# TRANSFORM PREDICTIONS USING FITTED SCALER\n",
        "tg_preds_scaled = transform_to_scaler(scaler_garch, tg_preds)"
      ]
    },
    {
      "cell_type": "code",
      "execution_count": null,
      "metadata": {
        "id": "X0Wr37BNUsHQ"
      },
      "outputs": [],
      "source": [
        "# Resetta l'indice dell'array arima_forecast\n",
        "tg_preds_scaled.reset_index(drop=True, inplace=True)\n",
        "\n",
        "# Resetta l'indice dell'array y_true\n",
        "y_val_scaled.reset_index(drop=True, inplace=True)\n",
        "\n",
        "# Ora gli indici degli array sono droppati e si è in grado di calcolare le metriche di performance senza ottenere valori NaN"
      ]
    },
    {
      "cell_type": "code",
      "execution_count": null,
      "metadata": {
        "id": "o5_tfevRRwHU"
      },
      "outputs": [],
      "source": [
        "# Calculate performance metrics using the selected data\n",
        "common_index = y_val_scaled.index.intersection(tg_preds_scaled.index)\n",
        "tg_preds_val = tg_preds_scaled.loc[common_index]\n",
        "y_val_selected = y_val_scaled.loc[common_index]\n",
        "\n",
        "log_performance(y_val_selected, tg_preds_val, f'TGARCH({best_p_int},{best_o_int},{best_q_int})')"
      ]
    },
    {
      "cell_type": "markdown",
      "metadata": {
        "id": "8crwuYm6YN9J"
      },
      "source": [
        "Then we can calculate the forecast on the Test Dataset"
      ]
    },
    {
      "cell_type": "code",
      "execution_count": null,
      "metadata": {
        "id": "7yu3tmyzD8kV"
      },
      "outputs": [],
      "source": [
        "# ONE STEP EXPANDING WINDOW FORECAST\n",
        "# INITIALIZING rolling_forecast\n",
        "rolling_forecasts = []\n",
        "idx = df.index\n",
        "\n",
        "# ITERATE OVER EACH TIME STEP IN THE VALIDATION SET\n",
        "for i in range(len(n_test)):\n",
        "    # GET THE DATA AT ALL PREVIOUS TIME STEPS\n",
        "    idx = n_test[i]\n",
        "    train = df.returns[:idx]\n",
        "\n",
        "    # TRAIN MODEL USING ALL PREVIOUS TIME STEPS' DATA\n",
        "    model = arch_model(train, p=best_p_int, o=best_o_int, q=best_q_int, power=2.0,\n",
        "                       dist='ged')\n",
        "    model_fit = model.fit(disp='off')\n",
        "\n",
        "    # MAKE PREDICTION n_future DAYS OUT\n",
        "    vaR = model_fit.forecast(horizon=n_future,\n",
        "                             reindex=False).variance.values\n",
        "    # GET THE SQRT OF AVERAGE n_future DAYS VARIANCE\n",
        "    pred = np.sqrt(np.mean(vaR))\n",
        "\n",
        "    # APPEND TO rolling_forecasts LIST\n",
        "    rolling_forecasts.append(pred)\n",
        "\n",
        "gm_1_preds = pd.Series(rolling_forecasts, index=n_test)"
      ]
    },
    {
      "cell_type": "code",
      "execution_count": null,
      "metadata": {
        "id": "N5_PkUa2EAVL"
      },
      "outputs": [],
      "source": [
        "# TRANSFORM PREDICTIONS USING FITTED SCALER\n",
        "gm_1_preds_scaled = transform_to_scaler(scaler_garch, gm_1_preds)"
      ]
    },
    {
      "cell_type": "code",
      "execution_count": null,
      "metadata": {
        "id": "AqBTjIMXfz6-"
      },
      "outputs": [],
      "source": [
        "# PLOTTING MODEL PREDICTIONS VS. TARGET VALUES\n",
        "def viz_forecast(y_true, y_pred, model_name):\n",
        "    sns.set_context(\"paper\", font_scale=1.7)\n",
        "    plt.rcParams[\"axes.grid\"] = False\n",
        "\n",
        "    with sns.axes_style(\"whitegrid\"):\n",
        "        plt.figure(figsize=(18,7))\n",
        "        \"\"\"plt.plot(x_test_scaled, color='gray',  ls=':',\n",
        "               label=f\"Scaled Current Daily Volatility\")\"\"\"\n",
        "\n",
        "        plt.plot(y_true, color='blue', lw=2,\n",
        "                label=f\"Target Volatility\")\n",
        "        plt.plot(y_pred, color='orange', lw=2.5,\n",
        "                label=f'Forecasted Volatility')\n",
        "\n",
        "        plt.title(f'{model_name} \\non Test Data')\n",
        "        plt.legend(loc='best', frameon=True)"
      ]
    },
    {
      "cell_type": "code",
      "execution_count": null,
      "metadata": {
        "id": "JIIa8OXBECwp"
      },
      "outputs": [],
      "source": [
        "# PLOTTING PREDICTIONS VS. TARGET VALUES ON VALIDATION SET\n",
        "viz_forecast(y_test_scaled, gm_1_preds_scaled,\n",
        "          f'TGARCH({best_p_int},{best_o_int},{best_q_int}) Forecasting')"
      ]
    },
    {
      "cell_type": "markdown",
      "metadata": {
        "id": "ilWSTzUpDtlb"
      },
      "source": [
        "* **Scaled Current Daily Volatility**: This line represents the current daily volatility on the test set after applying scaling. The scaling is done using the same transformation that was applied to the forecasted volatility, ensuring a common comparison basis. This line shows the observed volatility in the test set, but made comparable with the forecast values.\n",
        "* **Target Volatility**: This line represents the actual values of daily volatility in the test set. It is the real data on which the model made the forecast, without any scaling or manipulation.\n",
        "* **Forecasted Volatility**: This line represents the model's forecast results. It is the volatility predicted by the model for the test period."
      ]
    },
    {
      "cell_type": "code",
      "execution_count": null,
      "metadata": {
        "id": "hq7eWF-4P5iG"
      },
      "outputs": [],
      "source": [
        "# Plotting the test set, forecast, and TGARCH forecast\n",
        "plt.figure(figsize=(12, 6))\n",
        "plt.plot(y_test_scaled.index, y_test_scaled, label='Test Set (Actual)')\n",
        "plt.plot(y_test_scaled.index, random_walk_drift_test_preds, label='Random Walk with Drift Forecast')\n",
        "plt.plot(y_test_scaled.index, gm_1_preds_scaled, label='TGARCH Forecast')\n",
        "plt.legend()\n",
        "plt.title(\"Test Set vs Forecasts\")\n",
        "plt.xlabel(\"Time\")\n",
        "plt.ylabel(\"Volatility\")\n",
        "plt.show()"
      ]
    },
    {
      "cell_type": "markdown",
      "metadata": {
        "id": "aUMHWMvRh7Bj"
      },
      "source": [
        "#**Forecast on Test Dataset Performance Metrics**"
      ]
    },
    {
      "cell_type": "markdown",
      "metadata": {
        "id": "jgGzpFWgiGyr"
      },
      "source": [
        "Interpret the RMSE (Root Mean Squared Error):\n",
        "\n",
        "* RMSE represents the square root of the average squared difference between the forecasted volatility and the actual volatility.\n",
        "* A lower RMSE indicates better accuracy and closer alignment between the forecasted and actual volatility values.\n",
        "* Compare the RMSE value to the scale of your data to assess its significance."
      ]
    },
    {
      "cell_type": "markdown",
      "metadata": {
        "id": "rKnnrA2OiOqU"
      },
      "source": [
        "Interpret the MAE (Mean Absolute Error):\n",
        "\n",
        "* MAE represents the average absolute difference between the forecasted volatility and the actual volatility.\n",
        "* MAE provides a measure of the average magnitude of the forecast error, regardless of its direction.\n",
        "* Compare the MAE value to the scale of your data to assess its significance."
      ]
    },
    {
      "cell_type": "markdown",
      "metadata": {
        "id": "xOuEh-Kniqpf"
      },
      "source": [
        "Interpret RMPSE (Root Mean Percentage Squared Error):\n",
        "\n",
        "* RMPSE calculates the average percentage error between the predicted values and the true values.\n",
        "* A lower RMPSE indicates better accuracy, with a value of 0 indicating a perfect fit.\n",
        "* The RMPSE value is usually presented as a percentage, making it easier to understand in terms of relative error."
      ]
    },
    {
      "cell_type": "code",
      "execution_count": null,
      "metadata": {
        "id": "uOyH1Stw_nx1"
      },
      "outputs": [],
      "source": [
        "#Calculate metrics\n",
        "def calculate_metrics(data):\n",
        "    rmse = np.sqrt(np.mean((gm_1_preds_scaled - data['volatility_current'])**2))\n",
        "    mae = np.mean(np.abs(gm_1_preds_scaled - data['volatility_current']))\n",
        "    rmpse = np.sqrt(np.mean(np.square((gm_1_preds_scaled - data['volatility_current']) / data['volatility_current']))) * 100\n",
        "\n",
        "    return rmse, mae, rmpse"
      ]
    },
    {
      "cell_type": "code",
      "execution_count": null,
      "metadata": {
        "id": "lsq2SwU0_skF"
      },
      "outputs": [],
      "source": [
        "rmse, mae, rmpse = calculate_metrics(df)"
      ]
    },
    {
      "cell_type": "code",
      "execution_count": null,
      "metadata": {
        "id": "wBxUejVmv_I5"
      },
      "outputs": [],
      "source": [
        "\"\"\"# Initialize an empty DataFrame\n",
        "results_df = pd.DataFrame(columns=[\"Ticker\", \"RMSE\", \"MAE\", \"RMPSE\"])\n",
        "\n",
        "ticker_symbol = ticker.info[\"symbol\"]\n",
        "\n",
        "# Later in your code, append data to the DataFrame\n",
        "results_df = results_df.append({\"Ticker\": ticker_symbol , \"RMSE\": rmse, \"MAE\": mae, \"RMPSE\": rmpse}, ignore_index=True)\n",
        "\n",
        "# Save the DataFrame to a CSV file\n",
        "results_df.to_csv(f\"results_{ticker_symbol}.csv\", index=False)\"\"\"\n"
      ]
    },
    {
      "cell_type": "code",
      "execution_count": null,
      "metadata": {
        "id": "9Erlr6oNi-bo"
      },
      "outputs": [],
      "source": [
        "print(\"RMSE:\", rmse)\n",
        "print(\"MAE:\", mae)\n",
        "print(\"RMPSE:\", rmpse)"
      ]
    }
  ],
  "metadata": {
    "colab": {
      "provenance": [],
      "authorship_tag": "ABX9TyPuVMgOhQcMvUnmbnFjPdql",
      "include_colab_link": true
    },
    "kernelspec": {
      "display_name": "Python 3",
      "name": "python3"
    },
    "language_info": {
      "name": "python"
    }
  },
  "nbformat": 4,
  "nbformat_minor": 0
}